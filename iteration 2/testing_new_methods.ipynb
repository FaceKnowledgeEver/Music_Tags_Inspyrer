{
 "cells": [
  {
   "cell_type": "code",
   "execution_count": 1,
   "metadata": {
    "colab": {
     "base_uri": "https://localhost:8080/"
    },
    "id": "CBSE6ViUiDlV",
    "outputId": "ff0b846f-8974-4a93-de26-87a007632b27"
   },
   "outputs": [],
   "source": [
    "# Import libraries\n",
    "\n",
    "import matplotlib.pyplot as plt\n",
    "from matplotlib import pyplot\n",
    "import seaborn as sns\n",
    "import numpy as np\n",
    "import pandas as pd\n",
    "import os\n",
    "import statsmodels.api\n",
    "from sklearn.model_selection  import train_test_split\n",
    "from sklearn import preprocessing\n",
    "from sklearn.preprocessing import StandardScaler\n",
    "from sklearn.metrics import classification_report\n",
    "%matplotlib inline\n",
    "from sklearn import model_selection\n",
    "from sklearn.neural_network import MLPClassifier\n",
    "from sklearn import svm\n",
    "from sklearn.model_selection import GridSearchCV\n",
    "sns.set()"
   ]
  },
  {
   "cell_type": "code",
   "execution_count": 2,
   "metadata": {
    "id": "GzsroQKpiDlj"
   },
   "outputs": [],
   "source": [
    "# Reading data\n",
    "music_df = pd.read_csv(\"data.csv\")"
   ]
  },
  {
   "cell_type": "code",
   "execution_count": 3,
   "metadata": {
    "id": "aHE7kD_piDlm"
   },
   "outputs": [],
   "source": [
    "# Removing the filename column\n",
    "music_df = music_df.drop([\"filename\"], axis = 1)"
   ]
  },
  {
   "cell_type": "code",
   "execution_count": 4,
   "metadata": {
    "id": "-tfGFA0SiDln"
   },
   "outputs": [],
   "source": [
    "# Define target and data variables\n",
    "target = music_df.label\n",
    "data = music_df.drop('label',axis=1)"
   ]
  },
  {
   "cell_type": "code",
   "execution_count": 5,
   "metadata": {
    "id": "6-PU2QD7iDlo"
   },
   "outputs": [],
   "source": [
    "# Function to remove highly correlated columns\n",
    "\n",
    "def correlation(dataset, threshold):\n",
    "    col_corr = set() # Set of all the names of deleted columns\n",
    "    corr_matrix = dataset.corr()\n",
    "    for i in range(len(corr_matrix.columns)):\n",
    "        for j in range(i):\n",
    "            if (corr_matrix.iloc[i, j] >= threshold) and (corr_matrix.columns[j] not in col_corr):\n",
    "                colname = corr_matrix.columns[i] # getting the name of column\n",
    "                col_corr.add(colname)\n",
    "                if colname in dataset.columns:\n",
    "                    del dataset[colname] # deleting the column from the dataset"
   ]
  },
  {
   "cell_type": "code",
   "execution_count": 6,
   "metadata": {
    "colab": {
     "base_uri": "https://localhost:8080/"
    },
    "id": "SmJUPjWBiDls",
    "outputId": "15311447-c178-48a6-8892-97a18783651c"
   },
   "outputs": [
    {
     "name": "stdout",
     "output_type": "stream",
     "text": [
      "Index(['tempo', 'chroma_stft', 'rmse', 'spectral_centroid', 'mfcc1', 'mfcc2',\n",
      "       'mfcc3', 'mfcc4', 'mfcc5', 'mfcc6', 'mfcc7', 'mfcc8', 'mfcc9', 'mfcc10',\n",
      "       'mfcc11', 'mfcc12', 'mfcc13', 'mfcc14', 'mfcc15', 'mfcc16', 'mfcc17',\n",
      "       'mfcc18', 'mfcc19', 'mfcc20'],\n",
      "      dtype='object')\n"
     ]
    }
   ],
   "source": [
    "# Removing the columns \n",
    "\n",
    "correlation(data, 0.85)\n",
    "print(data.columns)"
   ]
  },
  {
   "cell_type": "code",
   "execution_count": 7,
   "metadata": {
    "id": "SOvIg2DaiDlx"
   },
   "outputs": [],
   "source": [
    "# Encode the label classes using LabelEncoder\n",
    "encoder = preprocessing.LabelEncoder()\n",
    "target = encoder.fit_transform(target)"
   ]
  },
  {
   "cell_type": "code",
   "execution_count": 8,
   "metadata": {
    "id": "4qdCk8jaiDly"
   },
   "outputs": [],
   "source": [
    "# Split for the train and test datasets\n",
    "X_train, X_test, y_train, y_test = train_test_split (data, target,\n",
    "                                                    test_size = 0.2 ,\n",
    "                                                    random_state = 42,\n",
    "                                                    stratify = target)"
   ]
  },
  {
   "cell_type": "code",
   "execution_count": 9,
   "metadata": {
    "id": "lVxr3eGqiDlz"
   },
   "outputs": [],
   "source": [
    "# Scale the X data using StandardScaler\n",
    "scaler = StandardScaler()\n",
    "X_train = scaler.fit_transform(X_train)\n",
    "X_test = scaler.transform(X_test)"
   ]
  },
  {
   "cell_type": "markdown",
   "metadata": {
    "id": "HjPloUmeiDl0"
   },
   "source": [
    "### Artificial Neural Network"
   ]
  },
  {
   "cell_type": "code",
   "execution_count": 10,
   "metadata": {
    "colab": {
     "base_uri": "https://localhost:8080/",
     "height": 0
    },
    "id": "vfx1OihZiDl3",
    "outputId": "632a79cf-ed57-4aa8-d313-f8a601ed5bde"
   },
   "outputs": [
    {
     "data": {
      "text/html": [
       "<div>\n",
       "<style scoped>\n",
       "    .dataframe tbody tr th:only-of-type {\n",
       "        vertical-align: middle;\n",
       "    }\n",
       "\n",
       "    .dataframe tbody tr th {\n",
       "        vertical-align: top;\n",
       "    }\n",
       "\n",
       "    .dataframe thead th {\n",
       "        text-align: right;\n",
       "    }\n",
       "</style>\n",
       "<table border=\"1\" class=\"dataframe\">\n",
       "  <thead>\n",
       "    <tr style=\"text-align: right;\">\n",
       "      <th>Predicted class</th>\n",
       "      <th>0</th>\n",
       "      <th>1</th>\n",
       "      <th>2</th>\n",
       "      <th>3</th>\n",
       "      <th>4</th>\n",
       "      <th>5</th>\n",
       "      <th>6</th>\n",
       "      <th>7</th>\n",
       "      <th>8</th>\n",
       "      <th>9</th>\n",
       "    </tr>\n",
       "    <tr>\n",
       "      <th>Real class</th>\n",
       "      <th></th>\n",
       "      <th></th>\n",
       "      <th></th>\n",
       "      <th></th>\n",
       "      <th></th>\n",
       "      <th></th>\n",
       "      <th></th>\n",
       "      <th></th>\n",
       "      <th></th>\n",
       "      <th></th>\n",
       "    </tr>\n",
       "  </thead>\n",
       "  <tbody>\n",
       "    <tr>\n",
       "      <th>0</th>\n",
       "      <td>13</td>\n",
       "      <td>0</td>\n",
       "      <td>2</td>\n",
       "      <td>0</td>\n",
       "      <td>1</td>\n",
       "      <td>1</td>\n",
       "      <td>2</td>\n",
       "      <td>0</td>\n",
       "      <td>0</td>\n",
       "      <td>1</td>\n",
       "    </tr>\n",
       "    <tr>\n",
       "      <th>1</th>\n",
       "      <td>1</td>\n",
       "      <td>16</td>\n",
       "      <td>0</td>\n",
       "      <td>0</td>\n",
       "      <td>0</td>\n",
       "      <td>2</td>\n",
       "      <td>0</td>\n",
       "      <td>0</td>\n",
       "      <td>0</td>\n",
       "      <td>1</td>\n",
       "    </tr>\n",
       "    <tr>\n",
       "      <th>2</th>\n",
       "      <td>0</td>\n",
       "      <td>0</td>\n",
       "      <td>15</td>\n",
       "      <td>1</td>\n",
       "      <td>0</td>\n",
       "      <td>0</td>\n",
       "      <td>0</td>\n",
       "      <td>1</td>\n",
       "      <td>2</td>\n",
       "      <td>1</td>\n",
       "    </tr>\n",
       "    <tr>\n",
       "      <th>3</th>\n",
       "      <td>1</td>\n",
       "      <td>0</td>\n",
       "      <td>1</td>\n",
       "      <td>14</td>\n",
       "      <td>1</td>\n",
       "      <td>0</td>\n",
       "      <td>1</td>\n",
       "      <td>0</td>\n",
       "      <td>0</td>\n",
       "      <td>2</td>\n",
       "    </tr>\n",
       "    <tr>\n",
       "      <th>4</th>\n",
       "      <td>0</td>\n",
       "      <td>0</td>\n",
       "      <td>0</td>\n",
       "      <td>2</td>\n",
       "      <td>15</td>\n",
       "      <td>0</td>\n",
       "      <td>0</td>\n",
       "      <td>1</td>\n",
       "      <td>1</td>\n",
       "      <td>1</td>\n",
       "    </tr>\n",
       "    <tr>\n",
       "      <th>5</th>\n",
       "      <td>0</td>\n",
       "      <td>2</td>\n",
       "      <td>2</td>\n",
       "      <td>1</td>\n",
       "      <td>0</td>\n",
       "      <td>15</td>\n",
       "      <td>0</td>\n",
       "      <td>0</td>\n",
       "      <td>0</td>\n",
       "      <td>0</td>\n",
       "    </tr>\n",
       "    <tr>\n",
       "      <th>6</th>\n",
       "      <td>1</td>\n",
       "      <td>0</td>\n",
       "      <td>0</td>\n",
       "      <td>0</td>\n",
       "      <td>0</td>\n",
       "      <td>1</td>\n",
       "      <td>18</td>\n",
       "      <td>0</td>\n",
       "      <td>0</td>\n",
       "      <td>0</td>\n",
       "    </tr>\n",
       "    <tr>\n",
       "      <th>7</th>\n",
       "      <td>0</td>\n",
       "      <td>0</td>\n",
       "      <td>3</td>\n",
       "      <td>1</td>\n",
       "      <td>0</td>\n",
       "      <td>1</td>\n",
       "      <td>0</td>\n",
       "      <td>15</td>\n",
       "      <td>0</td>\n",
       "      <td>0</td>\n",
       "    </tr>\n",
       "    <tr>\n",
       "      <th>8</th>\n",
       "      <td>0</td>\n",
       "      <td>1</td>\n",
       "      <td>0</td>\n",
       "      <td>2</td>\n",
       "      <td>4</td>\n",
       "      <td>1</td>\n",
       "      <td>0</td>\n",
       "      <td>1</td>\n",
       "      <td>9</td>\n",
       "      <td>2</td>\n",
       "    </tr>\n",
       "    <tr>\n",
       "      <th>9</th>\n",
       "      <td>1</td>\n",
       "      <td>0</td>\n",
       "      <td>1</td>\n",
       "      <td>7</td>\n",
       "      <td>0</td>\n",
       "      <td>0</td>\n",
       "      <td>0</td>\n",
       "      <td>0</td>\n",
       "      <td>1</td>\n",
       "      <td>10</td>\n",
       "    </tr>\n",
       "  </tbody>\n",
       "</table>\n",
       "</div>"
      ],
      "text/plain": [
       "Predicted class   0   1   2   3   4   5   6   7  8   9\n",
       "Real class                                            \n",
       "0                13   0   2   0   1   1   2   0  0   1\n",
       "1                 1  16   0   0   0   2   0   0  0   1\n",
       "2                 0   0  15   1   0   0   0   1  2   1\n",
       "3                 1   0   1  14   1   0   1   0  0   2\n",
       "4                 0   0   0   2  15   0   0   1  1   1\n",
       "5                 0   2   2   1   0  15   0   0  0   0\n",
       "6                 1   0   0   0   0   1  18   0  0   0\n",
       "7                 0   0   3   1   0   1   0  15  0   0\n",
       "8                 0   1   0   2   4   1   0   1  9   2\n",
       "9                 1   0   1   7   0   0   0   0  1  10"
      ]
     },
     "execution_count": 10,
     "metadata": {},
     "output_type": "execute_result"
    }
   ],
   "source": [
    "from sklearn.neural_network import MLPClassifier\n",
    "# Creation of the clasifier ann  (MLPClassifier)\n",
    "ann = MLPClassifier(max_iter = 1000)\n",
    "# Fit of ann on (X_train,y_train)\n",
    "ann.fit(X_train, y_train)\n",
    "# Prediction using ann on X_test\n",
    "y_pred_ann = ann.predict(X_test)\n",
    "pd.crosstab(y_test, y_pred_ann, rownames = ['Real class'], colnames=['Predicted class'])"
   ]
  },
  {
   "cell_type": "code",
   "execution_count": 11,
   "metadata": {
    "colab": {
     "base_uri": "https://localhost:8080/"
    },
    "id": "aSUxvVxYiDl5",
    "outputId": "c85d86e3-5843-4df4-e124-dfe8112d7fc5"
   },
   "outputs": [
    {
     "name": "stdout",
     "output_type": "stream",
     "text": [
      "              precision    recall  f1-score   support\n",
      "\n",
      "           0       0.76      0.65      0.70        20\n",
      "           1       0.84      0.80      0.82        20\n",
      "           2       0.62      0.75      0.68        20\n",
      "           3       0.50      0.70      0.58        20\n",
      "           4       0.71      0.75      0.73        20\n",
      "           5       0.71      0.75      0.73        20\n",
      "           6       0.86      0.90      0.88        20\n",
      "           7       0.83      0.75      0.79        20\n",
      "           8       0.69      0.45      0.55        20\n",
      "           9       0.56      0.50      0.53        20\n",
      "\n",
      "    accuracy                           0.70       200\n",
      "   macro avg       0.71      0.70      0.70       200\n",
      "weighted avg       0.71      0.70      0.70       200\n",
      "\n"
     ]
    }
   ],
   "source": [
    "print(classification_report(y_test,y_pred_ann))"
   ]
  },
  {
   "cell_type": "markdown",
   "metadata": {
    "id": "j79kzmV7iDl7"
   },
   "source": [
    "### SVM"
   ]
  },
  {
   "cell_type": "code",
   "execution_count": 12,
   "metadata": {
    "id": "TyibfaIziDl9"
   },
   "outputs": [],
   "source": [
    "# Creation of a SVM classifier\n",
    "clf = svm.SVC()\n",
    "# Parameters to test\n",
    "parametres = {'C' : [0.1,1,10], 'kernel':['rbf', 'linear','poly'],'gamma' : [0.001, 0.1, 0.5]}\n",
    "# Creation of the grid to test the SVM model\n",
    "grid_clf = model_selection.GridSearchCV(clf, param_grid=parametres,cv=5)"
   ]
  },
  {
   "cell_type": "code",
   "execution_count": 13,
   "metadata": {
    "id": "OGvjPCwziDl9"
   },
   "outputs": [],
   "source": [
    "# Training of the grid_svm on X_train and y_train\n",
    "grille_svm = grid_clf.fit(X_train,y_train)"
   ]
  },
  {
   "cell_type": "code",
   "execution_count": 14,
   "metadata": {
    "colab": {
     "base_uri": "https://localhost:8080/",
     "height": 0
    },
    "id": "rnR8Q7bgiDl-",
    "outputId": "75a6b61f-a977-4ebe-a89a-ffb87d588b40"
   },
   "outputs": [
    {
     "data": {
      "text/html": [
       "<div>\n",
       "<style scoped>\n",
       "    .dataframe tbody tr th:only-of-type {\n",
       "        vertical-align: middle;\n",
       "    }\n",
       "\n",
       "    .dataframe tbody tr th {\n",
       "        vertical-align: top;\n",
       "    }\n",
       "\n",
       "    .dataframe thead th {\n",
       "        text-align: right;\n",
       "    }\n",
       "</style>\n",
       "<table border=\"1\" class=\"dataframe\">\n",
       "  <thead>\n",
       "    <tr style=\"text-align: right;\">\n",
       "      <th>Predicted class</th>\n",
       "      <th>0</th>\n",
       "      <th>1</th>\n",
       "      <th>2</th>\n",
       "      <th>3</th>\n",
       "      <th>4</th>\n",
       "      <th>5</th>\n",
       "      <th>6</th>\n",
       "      <th>7</th>\n",
       "      <th>8</th>\n",
       "      <th>9</th>\n",
       "    </tr>\n",
       "    <tr>\n",
       "      <th>Real class</th>\n",
       "      <th></th>\n",
       "      <th></th>\n",
       "      <th></th>\n",
       "      <th></th>\n",
       "      <th></th>\n",
       "      <th></th>\n",
       "      <th></th>\n",
       "      <th></th>\n",
       "      <th></th>\n",
       "      <th></th>\n",
       "    </tr>\n",
       "  </thead>\n",
       "  <tbody>\n",
       "    <tr>\n",
       "      <th>0</th>\n",
       "      <td>14</td>\n",
       "      <td>0</td>\n",
       "      <td>0</td>\n",
       "      <td>0</td>\n",
       "      <td>2</td>\n",
       "      <td>1</td>\n",
       "      <td>2</td>\n",
       "      <td>0</td>\n",
       "      <td>0</td>\n",
       "      <td>1</td>\n",
       "    </tr>\n",
       "    <tr>\n",
       "      <th>1</th>\n",
       "      <td>1</td>\n",
       "      <td>17</td>\n",
       "      <td>1</td>\n",
       "      <td>0</td>\n",
       "      <td>0</td>\n",
       "      <td>1</td>\n",
       "      <td>0</td>\n",
       "      <td>0</td>\n",
       "      <td>0</td>\n",
       "      <td>0</td>\n",
       "    </tr>\n",
       "    <tr>\n",
       "      <th>2</th>\n",
       "      <td>0</td>\n",
       "      <td>0</td>\n",
       "      <td>14</td>\n",
       "      <td>2</td>\n",
       "      <td>0</td>\n",
       "      <td>0</td>\n",
       "      <td>0</td>\n",
       "      <td>0</td>\n",
       "      <td>0</td>\n",
       "      <td>4</td>\n",
       "    </tr>\n",
       "    <tr>\n",
       "      <th>3</th>\n",
       "      <td>0</td>\n",
       "      <td>0</td>\n",
       "      <td>0</td>\n",
       "      <td>12</td>\n",
       "      <td>1</td>\n",
       "      <td>0</td>\n",
       "      <td>1</td>\n",
       "      <td>0</td>\n",
       "      <td>0</td>\n",
       "      <td>6</td>\n",
       "    </tr>\n",
       "    <tr>\n",
       "      <th>4</th>\n",
       "      <td>0</td>\n",
       "      <td>0</td>\n",
       "      <td>1</td>\n",
       "      <td>1</td>\n",
       "      <td>14</td>\n",
       "      <td>0</td>\n",
       "      <td>0</td>\n",
       "      <td>1</td>\n",
       "      <td>3</td>\n",
       "      <td>0</td>\n",
       "    </tr>\n",
       "    <tr>\n",
       "      <th>5</th>\n",
       "      <td>0</td>\n",
       "      <td>2</td>\n",
       "      <td>3</td>\n",
       "      <td>1</td>\n",
       "      <td>0</td>\n",
       "      <td>13</td>\n",
       "      <td>0</td>\n",
       "      <td>0</td>\n",
       "      <td>1</td>\n",
       "      <td>0</td>\n",
       "    </tr>\n",
       "    <tr>\n",
       "      <th>6</th>\n",
       "      <td>1</td>\n",
       "      <td>0</td>\n",
       "      <td>0</td>\n",
       "      <td>1</td>\n",
       "      <td>1</td>\n",
       "      <td>0</td>\n",
       "      <td>17</td>\n",
       "      <td>0</td>\n",
       "      <td>0</td>\n",
       "      <td>0</td>\n",
       "    </tr>\n",
       "    <tr>\n",
       "      <th>7</th>\n",
       "      <td>0</td>\n",
       "      <td>0</td>\n",
       "      <td>2</td>\n",
       "      <td>3</td>\n",
       "      <td>0</td>\n",
       "      <td>0</td>\n",
       "      <td>0</td>\n",
       "      <td>15</td>\n",
       "      <td>0</td>\n",
       "      <td>0</td>\n",
       "    </tr>\n",
       "    <tr>\n",
       "      <th>8</th>\n",
       "      <td>0</td>\n",
       "      <td>0</td>\n",
       "      <td>1</td>\n",
       "      <td>2</td>\n",
       "      <td>4</td>\n",
       "      <td>1</td>\n",
       "      <td>0</td>\n",
       "      <td>1</td>\n",
       "      <td>11</td>\n",
       "      <td>0</td>\n",
       "    </tr>\n",
       "    <tr>\n",
       "      <th>9</th>\n",
       "      <td>0</td>\n",
       "      <td>0</td>\n",
       "      <td>1</td>\n",
       "      <td>7</td>\n",
       "      <td>0</td>\n",
       "      <td>2</td>\n",
       "      <td>0</td>\n",
       "      <td>0</td>\n",
       "      <td>1</td>\n",
       "      <td>9</td>\n",
       "    </tr>\n",
       "  </tbody>\n",
       "</table>\n",
       "</div>"
      ],
      "text/plain": [
       "Predicted class   0   1   2   3   4   5   6   7   8  9\n",
       "Real class                                            \n",
       "0                14   0   0   0   2   1   2   0   0  1\n",
       "1                 1  17   1   0   0   1   0   0   0  0\n",
       "2                 0   0  14   2   0   0   0   0   0  4\n",
       "3                 0   0   0  12   1   0   1   0   0  6\n",
       "4                 0   0   1   1  14   0   0   1   3  0\n",
       "5                 0   2   3   1   0  13   0   0   1  0\n",
       "6                 1   0   0   1   1   0  17   0   0  0\n",
       "7                 0   0   2   3   0   0   0  15   0  0\n",
       "8                 0   0   1   2   4   1   0   1  11  0\n",
       "9                 0   0   1   7   0   2   0   0   1  9"
      ]
     },
     "execution_count": 14,
     "metadata": {},
     "output_type": "execute_result"
    }
   ],
   "source": [
    "# Prediction using grid_clf on X_test\n",
    "y_pred_svm = grid_clf.predict(X_test)\n",
    "pd.crosstab(y_test, y_pred_svm, rownames = ['Real class'], colnames=['Predicted class'])"
   ]
  },
  {
   "cell_type": "code",
   "execution_count": 15,
   "metadata": {
    "colab": {
     "base_uri": "https://localhost:8080/"
    },
    "id": "Qh05Ay3viDmA",
    "outputId": "dbe9827d-d8b6-427e-8113-b5945f75a0c2"
   },
   "outputs": [
    {
     "name": "stdout",
     "output_type": "stream",
     "text": [
      "              precision    recall  f1-score   support\n",
      "\n",
      "           0       0.88      0.70      0.78        20\n",
      "           1       0.89      0.85      0.87        20\n",
      "           2       0.61      0.70      0.65        20\n",
      "           3       0.41      0.60      0.49        20\n",
      "           4       0.64      0.70      0.67        20\n",
      "           5       0.72      0.65      0.68        20\n",
      "           6       0.85      0.85      0.85        20\n",
      "           7       0.88      0.75      0.81        20\n",
      "           8       0.69      0.55      0.61        20\n",
      "           9       0.45      0.45      0.45        20\n",
      "\n",
      "    accuracy                           0.68       200\n",
      "   macro avg       0.70      0.68      0.69       200\n",
      "weighted avg       0.70      0.68      0.69       200\n",
      "\n"
     ]
    }
   ],
   "source": [
    "print(classification_report(y_test,y_pred_svm))"
   ]
  },
  {
   "cell_type": "markdown",
   "metadata": {
    "id": "HGXgYymD-kRh"
   },
   "source": [
    "# Dense Neural Networks"
   ]
  },
  {
   "cell_type": "code",
   "execution_count": 16,
   "metadata": {
    "id": "ipNqtc-o-h_3"
   },
   "outputs": [],
   "source": [
    "import keras\n",
    "from keras import models\n",
    "from keras import layers \n",
    "\n",
    "# Building of the model\n",
    "model_dnn =models.Sequential()\n",
    "\n",
    "# Building of the different dense layers and Adding to the model\n",
    "\n",
    "model_dnn.add(layers.Dense(units = 512, activation ='relu', input_shape=(X_train.shape[1],)))\n",
    "\n",
    "model_dnn.add(layers.Dense(units = 256, activation ='relu'))\n",
    "\n",
    "model_dnn.add(layers.Dense(units = 128, activation ='relu'))\n",
    "\n",
    "model_dnn.add(layers.Dense(units = 64, activation ='relu')) \n",
    "\n",
    "model_dnn.add(layers.Dense(units = 32, activation ='relu'))\n",
    "\n",
    "model_dnn.add(layers.Dense(units = 16, activation ='relu'))\n",
    "\n",
    "model_dnn.add(layers.Dense(units = 10, activation ='softmax'))"
   ]
  },
  {
   "cell_type": "code",
   "execution_count": 17,
   "metadata": {
    "id": "pd396zn--81f"
   },
   "outputs": [],
   "source": [
    "# Compiling the model \n",
    "model_dnn.compile(loss = 'sparse_categorical_crossentropy',\n",
    "              optimizer = 'adam',\n",
    "              metrics = ['accuracy'])"
   ]
  },
  {
   "cell_type": "code",
   "execution_count": 18,
   "metadata": {
    "colab": {
     "base_uri": "https://localhost:8080/"
    },
    "id": "ftWp3-36DQNU",
    "outputId": "b02a1907-6ac5-4c0a-bb41-441c27004644"
   },
   "outputs": [
    {
     "name": "stdout",
     "output_type": "stream",
     "text": [
      "Epoch 1/50\n",
      "25/25 [==============================] - 3s 6ms/step - loss: 2.2314 - accuracy: 0.2133\n",
      "Epoch 2/50\n",
      "25/25 [==============================] - 0s 4ms/step - loss: 1.8558 - accuracy: 0.3343\n",
      "Epoch 3/50\n",
      "25/25 [==============================] - 0s 4ms/step - loss: 1.5297 - accuracy: 0.4663\n",
      "Epoch 4/50\n",
      "25/25 [==============================] - 0s 4ms/step - loss: 1.3317 - accuracy: 0.5271\n",
      "Epoch 5/50\n",
      "25/25 [==============================] - 0s 4ms/step - loss: 1.1234 - accuracy: 0.5913\n",
      "Epoch 6/50\n",
      "25/25 [==============================] - 0s 4ms/step - loss: 0.9600 - accuracy: 0.6698\n",
      "Epoch 7/50\n",
      "25/25 [==============================] - 0s 4ms/step - loss: 0.8967 - accuracy: 0.6740\n",
      "Epoch 8/50\n",
      "25/25 [==============================] - 0s 4ms/step - loss: 0.7667 - accuracy: 0.7269\n",
      "Epoch 9/50\n",
      "25/25 [==============================] - 0s 3ms/step - loss: 0.7494 - accuracy: 0.7517\n",
      "Epoch 10/50\n",
      "25/25 [==============================] - 0s 4ms/step - loss: 0.7602 - accuracy: 0.7352\n",
      "Epoch 11/50\n",
      "25/25 [==============================] - 0s 3ms/step - loss: 0.6197 - accuracy: 0.7758\n",
      "Epoch 12/50\n",
      "25/25 [==============================] - 0s 4ms/step - loss: 0.4417 - accuracy: 0.8680\n",
      "Epoch 13/50\n",
      "25/25 [==============================] - 0s 4ms/step - loss: 0.4647 - accuracy: 0.8616\n",
      "Epoch 14/50\n",
      "25/25 [==============================] - 0s 4ms/step - loss: 0.3412 - accuracy: 0.8965\n",
      "Epoch 15/50\n",
      "25/25 [==============================] - 0s 4ms/step - loss: 0.3686 - accuracy: 0.8851\n",
      "Epoch 16/50\n",
      "25/25 [==============================] - 0s 4ms/step - loss: 0.3189 - accuracy: 0.8887\n",
      "Epoch 17/50\n",
      "25/25 [==============================] - 0s 4ms/step - loss: 0.3265 - accuracy: 0.8945\n",
      "Epoch 18/50\n",
      "25/25 [==============================] - 0s 4ms/step - loss: 0.2359 - accuracy: 0.9331\n",
      "Epoch 19/50\n",
      "25/25 [==============================] - 0s 4ms/step - loss: 0.2002 - accuracy: 0.9454\n",
      "Epoch 20/50\n",
      "25/25 [==============================] - 0s 4ms/step - loss: 0.1388 - accuracy: 0.9721\n",
      "Epoch 21/50\n",
      "25/25 [==============================] - 0s 4ms/step - loss: 0.1523 - accuracy: 0.9627\n",
      "Epoch 22/50\n",
      "25/25 [==============================] - 0s 4ms/step - loss: 0.1140 - accuracy: 0.9729\n",
      "Epoch 23/50\n",
      "25/25 [==============================] - 0s 4ms/step - loss: 0.0703 - accuracy: 0.9873\n",
      "Epoch 24/50\n",
      "25/25 [==============================] - 0s 4ms/step - loss: 0.0527 - accuracy: 0.9921\n",
      "Epoch 25/50\n",
      "25/25 [==============================] - 0s 4ms/step - loss: 0.0551 - accuracy: 0.9862\n",
      "Epoch 26/50\n",
      "25/25 [==============================] - 0s 3ms/step - loss: 0.0583 - accuracy: 0.9921\n",
      "Epoch 27/50\n",
      "25/25 [==============================] - 0s 4ms/step - loss: 0.0299 - accuracy: 0.9991\n",
      "Epoch 28/50\n",
      "25/25 [==============================] - 0s 4ms/step - loss: 0.0345 - accuracy: 0.9908\n",
      "Epoch 29/50\n",
      "25/25 [==============================] - 0s 4ms/step - loss: 0.0316 - accuracy: 0.9963\n",
      "Epoch 30/50\n",
      "25/25 [==============================] - 0s 4ms/step - loss: 0.0255 - accuracy: 0.9970\n",
      "Epoch 31/50\n",
      "25/25 [==============================] - 0s 3ms/step - loss: 0.0233 - accuracy: 0.9977\n",
      "Epoch 32/50\n",
      "25/25 [==============================] - 0s 3ms/step - loss: 0.0177 - accuracy: 0.9976\n",
      "Epoch 33/50\n",
      "25/25 [==============================] - 0s 4ms/step - loss: 0.0230 - accuracy: 0.9968\n",
      "Epoch 34/50\n",
      "25/25 [==============================] - 0s 4ms/step - loss: 0.0308 - accuracy: 0.9922\n",
      "Epoch 35/50\n",
      "25/25 [==============================] - 0s 4ms/step - loss: 0.1192 - accuracy: 0.9611\n",
      "Epoch 36/50\n",
      "25/25 [==============================] - 0s 4ms/step - loss: 0.2131 - accuracy: 0.9304\n",
      "Epoch 37/50\n",
      "25/25 [==============================] - 0s 4ms/step - loss: 0.2237 - accuracy: 0.9163\n",
      "Epoch 38/50\n",
      "25/25 [==============================] - 0s 4ms/step - loss: 0.1036 - accuracy: 0.9692\n",
      "Epoch 39/50\n",
      "25/25 [==============================] - 0s 4ms/step - loss: 0.0506 - accuracy: 0.9858\n",
      "Epoch 40/50\n",
      "25/25 [==============================] - 0s 4ms/step - loss: 0.0675 - accuracy: 0.9780\n",
      "Epoch 41/50\n",
      "25/25 [==============================] - 0s 4ms/step - loss: 0.0357 - accuracy: 0.9912\n",
      "Epoch 42/50\n",
      "25/25 [==============================] - 0s 3ms/step - loss: 0.0220 - accuracy: 0.9941\n",
      "Epoch 43/50\n",
      "25/25 [==============================] - 0s 3ms/step - loss: 0.0164 - accuracy: 0.9928\n",
      "Epoch 44/50\n",
      "25/25 [==============================] - 0s 4ms/step - loss: 0.0107 - accuracy: 0.9976\n",
      "Epoch 45/50\n",
      "25/25 [==============================] - 0s 4ms/step - loss: 0.0061 - accuracy: 0.9994\n",
      "Epoch 46/50\n",
      "25/25 [==============================] - 0s 4ms/step - loss: 0.0039 - accuracy: 0.9997\n",
      "Epoch 47/50\n",
      "25/25 [==============================] - 0s 4ms/step - loss: 0.0086 - accuracy: 0.9982\n",
      "Epoch 48/50\n",
      "25/25 [==============================] - 0s 4ms/step - loss: 0.0113 - accuracy: 0.9955\n",
      "Epoch 49/50\n",
      "25/25 [==============================] - 0s 4ms/step - loss: 0.0041 - accuracy: 0.9994\n",
      "Epoch 50/50\n",
      "25/25 [==============================] - 0s 4ms/step - loss: 0.0128 - accuracy: 0.9981\n"
     ]
    },
    {
     "data": {
      "text/plain": [
       "<tensorflow.python.keras.callbacks.History at 0x2011a9f9400>"
      ]
     },
     "execution_count": 18,
     "metadata": {},
     "output_type": "execute_result"
    }
   ],
   "source": [
    "# Fitting the model\n",
    "model_dnn.fit(X_train, y_train,\n",
    "          epochs = 50,\n",
    "          batch_size = 32)"
   ]
  },
  {
   "cell_type": "code",
   "execution_count": 19,
   "metadata": {
    "colab": {
     "base_uri": "https://localhost:8080/"
    },
    "id": "37h6cDDjI8Xv",
    "outputId": "54713772-b94e-4898-e0c1-b84de6c3f596"
   },
   "outputs": [
    {
     "name": "stdout",
     "output_type": "stream",
     "text": [
      "7/7 [==============================] - 0s 3ms/step - loss: 1.9291 - accuracy: 0.6650\n",
      "The test accuracy is : 0.6650000214576721 .\n"
     ]
    }
   ],
   "source": [
    "# Calculating the accuracy\n",
    "test_loss, test_acc = model_dnn.evaluate(X_test, y_test)\n",
    "print(\"The test accuracy is :\",test_acc,\".\")"
   ]
  },
  {
   "cell_type": "code",
   "execution_count": 20,
   "metadata": {
    "colab": {
     "base_uri": "https://localhost:8080/"
    },
    "id": "7Afw_mFhJdP_",
    "outputId": "5a567f7e-9753-4098-899e-b82edcab8d48"
   },
   "outputs": [
    {
     "name": "stdout",
     "output_type": "stream",
     "text": [
      "              precision    recall  f1-score   support\n",
      "\n",
      "           0       0.78      0.70      0.74        20\n",
      "           1       0.85      0.85      0.85        20\n",
      "           2       0.52      0.55      0.54        20\n",
      "           3       0.43      0.65      0.52        20\n",
      "           4       0.74      0.70      0.72        20\n",
      "           5       0.61      0.55      0.58        20\n",
      "           6       0.83      0.95      0.88        20\n",
      "           7       0.84      0.80      0.82        20\n",
      "           8       0.67      0.50      0.57        20\n",
      "           9       0.47      0.40      0.43        20\n",
      "\n",
      "    accuracy                           0.67       200\n",
      "   macro avg       0.67      0.67      0.66       200\n",
      "weighted avg       0.67      0.67      0.66       200\n",
      "\n"
     ]
    }
   ],
   "source": [
    "# Predictions\n",
    "from sklearn import metrics\n",
    "\n",
    "y_pred = model_dnn.predict(X_test)\n",
    "test_pred_class = y_pred.argmax(axis = 1)\n",
    "\n",
    "print(metrics.classification_report(y_test, test_pred_class))"
   ]
  },
  {
   "cell_type": "code",
   "execution_count": 21,
   "metadata": {
    "colab": {
     "base_uri": "https://localhost:8080/",
     "height": 0
    },
    "id": "cv5_844GMrjj",
    "outputId": "d5cc9cfb-34f9-46f6-abbe-daeba012fd90"
   },
   "outputs": [
    {
     "name": "stdout",
     "output_type": "stream",
     "text": [
      "[[14  0  2  0  0  0  3  0  0  1]\n",
      " [ 1 17  0  0  0  2  0  0  0  0]\n",
      " [ 0  0 11  1  0  3  0  0  2  3]\n",
      " [ 0  0  0 13  2  0  1  0  1  3]\n",
      " [ 0  0  0  3 14  0  0  1  1  1]\n",
      " [ 1  3  4  1  0 11  0  0  0  0]\n",
      " [ 0  0  0  1  0  0 19  0  0  0]\n",
      " [ 1  0  1  2  0  0  0 16  0  0]\n",
      " [ 0  0  1  2  3  1  0  2 10  1]\n",
      " [ 1  0  2  7  0  1  0  0  1  8]]\n"
     ]
    },
    {
     "data": {
      "image/png": "[encoded data removed]",
      "text/plain": [
       "<Figure size 720x720 with 1 Axes>"
      ]
     },
     "metadata": {},
     "output_type": "display_data"
    }
   ],
   "source": [
    "# Confusion Matrix\n",
    "import itertools\n",
    "cnf_matrix = metrics.confusion_matrix(y_test, test_pred_class)\n",
    "\n",
    "classes = range(0,10)\n",
    "print(cnf_matrix)\n",
    "plt.figure(figsize=(10,10))\n",
    "\n",
    "plt.imshow(cnf_matrix, interpolation='nearest',cmap='Reds')\n",
    "plt.title(\"Confusion Matrix\")\n",
    "tick_marks = np.arange(len(classes))\n",
    "plt.xticks(tick_marks, classes)\n",
    "plt.yticks(tick_marks, classes)\n",
    "\n",
    "for i, j in itertools.product(range(cnf_matrix.shape[0]), range(cnf_matrix.shape[1])):\n",
    "    plt.text(j, i, cnf_matrix[i, j],\n",
    "             horizontalalignment=\"center\",\n",
    "             color=\"white\" if cnf_matrix[i, j] > ( cnf_matrix.max() / 2) else \"black\")\n",
    "\n",
    "plt.ylabel('True Labels')\n",
    "plt.xlabel('Predicted Labels')\n",
    "plt.show()"
   ]
  },
  {
   "cell_type": "markdown",
   "metadata": {
    "id": "5RL3gDDXP6lZ"
   },
   "source": [
    "# Convolutional Neural Network"
   ]
  },
  {
   "cell_type": "code",
   "execution_count": 22,
   "metadata": {
    "colab": {
     "base_uri": "https://localhost:8080/"
    },
    "id": "XBiJVUaHTk3W",
    "outputId": "5366c365-a6a1-453c-892f-eac223f72529"
   },
   "outputs": [
    {
     "name": "stdout",
     "output_type": "stream",
     "text": [
      "The mininum of X_train is -4.972818914745953 .\n",
      "The minimum of X_test is -4.421454239305414 .\n",
      "The maximum of X_train is 4.501190051812428 .\n",
      "The maximum of X_test is 3.2829396366006933 .\n"
     ]
    }
   ],
   "source": [
    "# Checking the minimum and maximum values of X_train and X_test\n",
    "print(\"The mininum of X_train is\",X_train.min(),\".\")\n",
    "print(\"The minimum of X_test is\",X_test.min(),\".\")\n",
    "print(\"The maximum of X_train is\",X_train.max(),\".\")\n",
    "print(\"The maximum of X_test is\",X_test.max(),\".\")"
   ]
  },
  {
   "cell_type": "code",
   "execution_count": 23,
   "metadata": {
    "id": "a5opGwx8UpgS"
   },
   "outputs": [],
   "source": [
    "# Scale the X_test and X_train to be between 0 and 1 using the minimum value from above\n",
    "for values in X_train:\n",
    "  for i in range(len(values)):\n",
    "    if values[i] < 0:\n",
    "      values[i] = values[i]/(-5)\n",
    "    if values[i] > 0:\n",
    "      values[i] = values[i]/5"
   ]
  },
  {
   "cell_type": "code",
   "execution_count": 24,
   "metadata": {
    "id": "1xQ_9hheoSHA"
   },
   "outputs": [],
   "source": [
    "# Reshape X_train and X_test for the model\n",
    "X_train = X_train.reshape(X_train.shape[0],X_train.shape[1],1)\n",
    "X_test = X_test.reshape(X_test.shape[0],X_test.shape[1],1)"
   ]
  },
  {
   "cell_type": "code",
   "execution_count": 25,
   "metadata": {
    "id": "pL1CHJyWQEWf"
   },
   "outputs": [],
   "source": [
    "import tensorflow as tf\n",
    "from tensorflow.keras.layers import Conv1D, MaxPooling1D, Flatten, Dense\n",
    "\n",
    "# Building of the model\n",
    "model_cnn = tf.keras.Sequential()\n",
    "\n",
    "# Building of the different dense layers and Adding to the model\n",
    "\n",
    "model_cnn.add(Conv1D(filters = 1024,\n",
    "                kernel_size = 3,\n",
    "                input_shape = (X_train.shape[1],1),\n",
    "                padding=\"same\",\n",
    "                activation = 'relu'))\n",
    "\n",
    "model_cnn.add(MaxPooling1D(pool_size = 2))\n",
    "\n",
    "model_cnn.add(Conv1D(filters = 512,\n",
    "                kernel_size = 3,\n",
    "                padding=\"same\",\n",
    "                activation = 'relu'))\n",
    "\n",
    "model_cnn.add(MaxPooling1D(pool_size = 2))\n",
    "\n",
    "model_cnn.add(Conv1D(filters = 256,\n",
    "                kernel_size = 3,\n",
    "                padding=\"same\",\n",
    "                activation = 'relu'))\n",
    "\n",
    "model_cnn.add(MaxPooling1D(pool_size = 2))\n",
    "\n",
    "model_cnn.add(Conv1D(filters = 128,\n",
    "                kernel_size = 3,\n",
    "                padding=\"same\",\n",
    "                activation = 'relu'))\n",
    "\n",
    "model_cnn.add(MaxPooling1D(pool_size = 2))\n",
    "\n",
    "model_cnn.add(Conv1D(filters = 64,\n",
    "                kernel_size = 3,\n",
    "                padding=\"same\",\n",
    "                activation = 'relu'))\n",
    "\n",
    "model_cnn.add(Flatten())\n",
    "\n",
    "model_cnn.add(Dense(units = 10, activation = 'softmax'))"
   ]
  },
  {
   "cell_type": "code",
   "execution_count": 26,
   "metadata": {
    "id": "8ZFOwJOEkoJm"
   },
   "outputs": [],
   "source": [
    "# Compiling the model \n",
    "model_cnn.compile(loss = 'sparse_categorical_crossentropy',\n",
    "              optimizer = 'adam',\n",
    "              metrics = ['accuracy'])"
   ]
  },
  {
   "cell_type": "code",
   "execution_count": 27,
   "metadata": {
    "colab": {
     "base_uri": "https://localhost:8080/"
    },
    "id": "o3riZQM0lFOe",
    "outputId": "4aedbbcd-ba2a-4a05-874e-b93f170addfd"
   },
   "outputs": [
    {
     "name": "stdout",
     "output_type": "stream",
     "text": [
      "Epoch 1/30\n",
      "25/25 [==============================] - 8s 235ms/step - loss: 2.3001 - accuracy: 0.1178\n",
      "Epoch 2/30\n",
      "25/25 [==============================] - 6s 234ms/step - loss: 2.2190 - accuracy: 0.1845\n",
      "Epoch 3/30\n",
      "25/25 [==============================] - 6s 223ms/step - loss: 1.9058 - accuracy: 0.3104\n",
      "Epoch 4/30\n",
      "25/25 [==============================] - 6s 252ms/step - loss: 1.7082 - accuracy: 0.3471\n",
      "Epoch 5/30\n",
      "25/25 [==============================] - 6s 248ms/step - loss: 1.6325 - accuracy: 0.4040\n",
      "Epoch 6/30\n",
      "25/25 [==============================] - 6s 248ms/step - loss: 1.5135 - accuracy: 0.4875\n",
      "Epoch 7/30\n",
      "25/25 [==============================] - 7s 270ms/step - loss: 1.4735 - accuracy: 0.4372\n",
      "Epoch 8/30\n",
      "25/25 [==============================] - 6s 231ms/step - loss: 1.3247 - accuracy: 0.5094\n",
      "Epoch 9/30\n",
      "25/25 [==============================] - 6s 240ms/step - loss: 1.2884 - accuracy: 0.5328\n",
      "Epoch 10/30\n",
      "25/25 [==============================] - 6s 230ms/step - loss: 1.1996 - accuracy: 0.5738\n",
      "Epoch 11/30\n",
      "25/25 [==============================] - 6s 229ms/step - loss: 1.2110 - accuracy: 0.5483\n",
      "Epoch 12/30\n",
      "25/25 [==============================] - 6s 248ms/step - loss: 1.1092 - accuracy: 0.5762\n",
      "Epoch 13/30\n",
      "25/25 [==============================] - 6s 225ms/step - loss: 1.0192 - accuracy: 0.6307\n",
      "Epoch 14/30\n",
      "25/25 [==============================] - 6s 230ms/step - loss: 0.9729 - accuracy: 0.6232\n",
      "Epoch 15/30\n",
      "25/25 [==============================] - 6s 239ms/step - loss: 0.9394 - accuracy: 0.6679\n",
      "Epoch 16/30\n",
      "25/25 [==============================] - 6s 224ms/step - loss: 0.8290 - accuracy: 0.6887\n",
      "Epoch 17/30\n",
      "25/25 [==============================] - 6s 244ms/step - loss: 0.7322 - accuracy: 0.7423\n",
      "Epoch 18/30\n",
      "25/25 [==============================] - 6s 237ms/step - loss: 0.7127 - accuracy: 0.7230\n",
      "Epoch 19/30\n",
      "25/25 [==============================] - 6s 226ms/step - loss: 0.6570 - accuracy: 0.7713\n",
      "Epoch 20/30\n",
      "25/25 [==============================] - 6s 244ms/step - loss: 0.5452 - accuracy: 0.8121\n",
      "Epoch 21/30\n",
      "25/25 [==============================] - 6s 230ms/step - loss: 0.4996 - accuracy: 0.8560\n",
      "Epoch 22/30\n",
      "25/25 [==============================] - 6s 230ms/step - loss: 0.4412 - accuracy: 0.8504\n",
      "Epoch 23/30\n",
      "25/25 [==============================] - 6s 252ms/step - loss: 0.3554 - accuracy: 0.8855\n",
      "Epoch 24/30\n",
      "25/25 [==============================] - 6s 227ms/step - loss: 0.3507 - accuracy: 0.8653\n",
      "Epoch 25/30\n",
      "25/25 [==============================] - 6s 231ms/step - loss: 0.3277 - accuracy: 0.8984\n",
      "Epoch 26/30\n",
      "25/25 [==============================] - 6s 237ms/step - loss: 0.2507 - accuracy: 0.9192\n",
      "Epoch 27/30\n",
      "25/25 [==============================] - 6s 231ms/step - loss: 0.1962 - accuracy: 0.9491\n",
      "Epoch 28/30\n",
      "25/25 [==============================] - 6s 255ms/step - loss: 0.2483 - accuracy: 0.9194\n",
      "Epoch 29/30\n",
      "25/25 [==============================] - 6s 238ms/step - loss: 0.1788 - accuracy: 0.9458\n",
      "Epoch 30/30\n",
      "25/25 [==============================] - 6s 236ms/step - loss: 0.1179 - accuracy: 0.9762\n"
     ]
    },
    {
     "data": {
      "text/plain": [
       "<tensorflow.python.keras.callbacks.History at 0x2011d29ecd0>"
      ]
     },
     "execution_count": 27,
     "metadata": {},
     "output_type": "execute_result"
    }
   ],
   "source": [
    "# Fitting the model\n",
    "model_cnn.fit(X_train, y_train,\n",
    "          epochs = 30,\n",
    "          batch_size = 32)"
   ]
  },
  {
   "cell_type": "code",
   "execution_count": 28,
   "metadata": {
    "colab": {
     "base_uri": "https://localhost:8080/"
    },
    "id": "_ZALXdAEshc3",
    "outputId": "c1524975-bc2d-4e1d-a0d7-97b4cee59e26"
   },
   "outputs": [
    {
     "name": "stdout",
     "output_type": "stream",
     "text": [
      "7/7 [==============================] - 0s 27ms/step - loss: 20.2079 - accuracy: 0.4100\n",
      "The test accuracy is : 0.4099999964237213 .\n"
     ]
    }
   ],
   "source": [
    "# Calculating the accuracy\n",
    "test_loss, test_acc = model_cnn.evaluate(X_test, y_test)\n",
    "print(\"The test accuracy is :\",test_acc,\".\")"
   ]
  },
  {
   "cell_type": "code",
   "execution_count": 29,
   "metadata": {
    "colab": {
     "base_uri": "https://localhost:8080/"
    },
    "id": "oRCg6_Yg12Us",
    "outputId": "3ed8be64-9cbd-45f7-f7b3-c2d7e907d6f1"
   },
   "outputs": [
    {
     "name": "stdout",
     "output_type": "stream",
     "text": [
      "              precision    recall  f1-score   support\n",
      "\n",
      "           0       0.86      0.30      0.44        20\n",
      "           1       0.88      0.35      0.50        20\n",
      "           2       0.18      0.10      0.13        20\n",
      "           3       0.29      0.55      0.38        20\n",
      "           4       0.69      0.55      0.61        20\n",
      "           5       0.16      0.35      0.22        20\n",
      "           6       0.64      0.80      0.71        20\n",
      "           7       0.77      0.50      0.61        20\n",
      "           8       0.50      0.40      0.44        20\n",
      "           9       0.17      0.20      0.19        20\n",
      "\n",
      "    accuracy                           0.41       200\n",
      "   macro avg       0.51      0.41      0.42       200\n",
      "weighted avg       0.51      0.41      0.42       200\n",
      "\n"
     ]
    }
   ],
   "source": [
    "# Predictions\n",
    "from sklearn import metrics\n",
    "\n",
    "y_pred = model_cnn.predict(X_test)\n",
    "test_pred_class = y_pred.argmax(axis = 1)\n",
    "\n",
    "print(metrics.classification_report(y_test, test_pred_class))"
   ]
  },
  {
   "cell_type": "code",
   "execution_count": 30,
   "metadata": {
    "colab": {
     "base_uri": "https://localhost:8080/",
     "height": 812
    },
    "id": "p1RWbr7F2FwO",
    "outputId": "e25bbaa6-2693-4075-b58d-1a6b83ca9b94"
   },
   "outputs": [
    {
     "name": "stdout",
     "output_type": "stream",
     "text": [
      "[[ 6  0  0  0  1  5  3  0  0  5]\n",
      " [ 0  7  4  0  0  4  0  0  4  1]\n",
      " [ 0  0  2  0  0 12  1  1  1  3]\n",
      " [ 0  0  0 11  0  3  2  0  0  4]\n",
      " [ 0  0  0  7 11  0  0  0  1  1]\n",
      " [ 0  1  4  5  0  7  0  0  2  1]\n",
      " [ 1  0  0  1  0  0 16  0  0  2]\n",
      " [ 0  0  0  4  1  4  0 10  0  1]\n",
      " [ 0  0  1  5  2  2  0  1  8  1]\n",
      " [ 0  0  0  5  1  6  3  1  0  4]]\n"
     ]
    },
    {
     "data": {
      "image/png": "[encoded data removed]",
      "text/plain": [
       "<Figure size 720x720 with 1 Axes>"
      ]
     },
     "metadata": {},
     "output_type": "display_data"
    }
   ],
   "source": [
    "# Confusion Matrix\n",
    "import itertools\n",
    "cnf_matrix = metrics.confusion_matrix(y_test, test_pred_class)\n",
    "\n",
    "classes = range(0,10)\n",
    "print(cnf_matrix)\n",
    "plt.figure(figsize=(10,10))\n",
    "\n",
    "plt.imshow(cnf_matrix, interpolation='nearest',cmap='Reds')\n",
    "plt.title(\"Confusion Matrix\")\n",
    "tick_marks = np.arange(len(classes))\n",
    "plt.xticks(tick_marks, classes)\n",
    "plt.yticks(tick_marks, classes)\n",
    "\n",
    "for i, j in itertools.product(range(cnf_matrix.shape[0]), range(cnf_matrix.shape[1])):\n",
    "    plt.text(j, i, cnf_matrix[i, j],\n",
    "             horizontalalignment=\"center\",\n",
    "             color=\"white\" if cnf_matrix[i, j] > ( cnf_matrix.max() / 2) else \"black\")\n",
    "\n",
    "plt.ylabel('True Labels')\n",
    "plt.xlabel('Predicted Labels')\n",
    "plt.show()"
   ]
  }
 ],
 "metadata": {
  "colab": {
   "collapsed_sections": [
    "HjPloUmeiDl0",
    "j79kzmV7iDl7",
    "HGXgYymD-kRh"
   ],
   "name": "Modelisation Iteration 2.ipynb",
   "provenance": []
  },
  "kernelspec": {
   "display_name": "Python 3",
   "language": "python",
   "name": "python3"
  },
  "language_info": {
   "codemirror_mode": {
    "name": "ipython",
    "version": 3
   },
   "file_extension": ".py",
   "mimetype": "text/x-python",
   "name": "python",
   "nbconvert_exporter": "python",
   "pygments_lexer": "ipython3",
   "version": "3.7.3"
  }
 },
 "nbformat": 4,
 "nbformat_minor": 1
}
